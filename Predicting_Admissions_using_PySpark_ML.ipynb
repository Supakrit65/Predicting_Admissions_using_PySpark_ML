{
  "nbformat": 4,
  "nbformat_minor": 0,
  "metadata": {
    "colab": {
      "provenance": [],
      "gpuType": "T4",
      "include_colab_link": true
    },
    "kernelspec": {
      "name": "python3",
      "display_name": "Python 3"
    },
    "accelerator": "GPU"
  },
  "cells": [
    {
      "cell_type": "markdown",
      "metadata": {
        "id": "view-in-github",
        "colab_type": "text"
      },
      "source": [
        "<a href=\"https://colab.research.google.com/github/Supakrit65/Predicting_Admissions_using_PySpark_ML/blob/main/Predicting_Admissions_using_PySpark_ML.ipynb\" target=\"_parent\"><img src=\"https://colab.research.google.com/assets/colab-badge.svg\" alt=\"Open In Colab\"/></a>"
      ]
    },
    {
      "cell_type": "markdown",
      "metadata": {
        "id": "rZtskxrQyg3e"
      },
      "source": [
        "# Install Dependencies & Run a SparkSession\n"
      ]
    },
    {
      "cell_type": "code",
      "metadata": {
        "id": "a9huiQF8yfIK",
        "colab": {
          "base_uri": "https://localhost:8080/"
        },
        "outputId": "5137e945-fe29-499e-bb4d-891734bc318f"
      },
      "source": [
        "# install pyspark\n",
        "! pip install pyspark"
      ],
      "execution_count": 64,
      "outputs": [
        {
          "output_type": "stream",
          "name": "stdout",
          "text": [
            "Requirement already satisfied: pyspark in /usr/local/lib/python3.10/dist-packages (3.5.0)\n",
            "Requirement already satisfied: py4j==0.10.9.7 in /usr/local/lib/python3.10/dist-packages (from pyspark) (0.10.9.7)\n"
          ]
        }
      ]
    },
    {
      "cell_type": "code",
      "metadata": {
        "id": "1wZpO2gxy7Pt"
      },
      "source": [
        "# create a sparksession\n",
        "from pyspark.sql import SparkSession # entry point for Spark applications and functionalities\n",
        "spark = SparkSession \\\n",
        "      .builder \\\n",
        "      .appName(\"Python Spark\") \\\n",
        "      .getOrCreate()"
      ],
      "execution_count": 65,
      "outputs": []
    },
    {
      "cell_type": "markdown",
      "metadata": {
        "id": "8t7JFc_My__A"
      },
      "source": [
        "# Clone & Explore dataset"
      ]
    },
    {
      "cell_type": "code",
      "metadata": {
        "id": "C0oRpI4ezFgc",
        "colab": {
          "base_uri": "https://localhost:8080/"
        },
        "outputId": "50343e53-0a41-4858-dcab-fad4d63b6093"
      },
      "source": [
        "# clone the dataset\n",
        "! git clone https://github.com/education454/admission_dataset"
      ],
      "execution_count": 66,
      "outputs": [
        {
          "output_type": "stream",
          "name": "stdout",
          "text": [
            "fatal: destination path 'admission_dataset' already exists and is not an empty directory.\n"
          ]
        }
      ]
    },
    {
      "cell_type": "code",
      "metadata": {
        "id": "Evfd9ACizers",
        "colab": {
          "base_uri": "https://localhost:8080/"
        },
        "outputId": "33ddf5ff-1898-458d-a15f-d83a05716a7f"
      },
      "source": [
        "# check the presence of dataset\n",
        "! ls admission_dataset/"
      ],
      "execution_count": 67,
      "outputs": [
        {
          "output_type": "stream",
          "name": "stdout",
          "text": [
            "Admission_Predict_Ver1.1.csv\n"
          ]
        }
      ]
    },
    {
      "cell_type": "code",
      "metadata": {
        "id": "q6sF2NVazjtU",
        "colab": {
          "base_uri": "https://localhost:8080/"
        },
        "outputId": "4d714c16-00a3-4217-d9af-08c0c63fd6a5"
      },
      "source": [
        "# create a spark dataframe\n",
        "df = spark.read.csv(\"/content/admission_dataset/Admission_Predict_Ver1.1.csv\",\n",
        "                    header=True, inferSchema=True)\n",
        "df.show()"
      ],
      "execution_count": 68,
      "outputs": [
        {
          "output_type": "stream",
          "name": "stdout",
          "text": [
            "+---------+---------+-----------+-----------------+---+---+----+--------+---------------+\n",
            "|Serial No|GRE Score|TOEFL Score|University Rating|SOP|LOR|CGPA|Research|Chance of Admit|\n",
            "+---------+---------+-----------+-----------------+---+---+----+--------+---------------+\n",
            "|        1|      337|        118|                4|4.5|4.5|9.65|       1|           0.92|\n",
            "|        2|      324|        107|                4|4.0|4.5|8.87|       1|           0.76|\n",
            "|        3|      316|        104|                3|3.0|3.5| 8.0|       1|           0.72|\n",
            "|        4|      322|        110|                3|3.5|2.5|8.67|       1|            0.8|\n",
            "|        5|      314|        103|                2|2.0|3.0|8.21|       0|           0.65|\n",
            "|        6|      330|        115|                5|4.5|3.0|9.34|       1|            0.9|\n",
            "|        7|      321|        109|                3|3.0|4.0| 8.2|       1|           0.75|\n",
            "|        8|      308|        101|                2|3.0|4.0| 7.9|       0|           0.68|\n",
            "|        9|      302|        102|                1|2.0|1.5| 8.0|       0|            0.5|\n",
            "|       10|      323|        108|                3|3.5|3.0| 8.6|       0|           0.45|\n",
            "|       11|      325|        106|                3|3.5|4.0| 8.4|       1|           0.52|\n",
            "|       12|      327|        111|                4|4.0|4.5| 9.0|       1|           0.84|\n",
            "|       13|      328|        112|                4|4.0|4.5| 9.1|       1|           0.78|\n",
            "|       14|      307|        109|                3|4.0|3.0| 8.0|       1|           0.62|\n",
            "|       15|      311|        104|                3|3.5|2.0| 8.2|       1|           0.61|\n",
            "|       16|      314|        105|                3|3.5|2.5| 8.3|       0|           0.54|\n",
            "|       17|      317|        107|                3|4.0|3.0| 8.7|       0|           0.66|\n",
            "|       18|      319|        106|                3|4.0|3.0| 8.0|       1|           0.65|\n",
            "|       19|      318|        110|                3|4.0|3.0| 8.8|       0|           0.63|\n",
            "|       20|      303|        102|                3|3.5|3.0| 8.5|       0|           0.62|\n",
            "+---------+---------+-----------+-----------------+---+---+----+--------+---------------+\n",
            "only showing top 20 rows\n",
            "\n"
          ]
        }
      ]
    },
    {
      "cell_type": "code",
      "metadata": {
        "id": "tgtWocArzqVR",
        "colab": {
          "base_uri": "https://localhost:8080/"
        },
        "outputId": "b2dd377a-9f0d-4928-d252-13a4c7546ebc"
      },
      "source": [
        "# get the no.of rows & columns\n",
        "print((df.count(), len(df.columns)))"
      ],
      "execution_count": 69,
      "outputs": [
        {
          "output_type": "stream",
          "name": "stdout",
          "text": [
            "(500, 9)\n"
          ]
        }
      ]
    },
    {
      "cell_type": "code",
      "metadata": {
        "id": "OWQTe006zt7O",
        "colab": {
          "base_uri": "https://localhost:8080/"
        },
        "outputId": "f5376299-c169-4b99-db76-0cf88a872480"
      },
      "source": [
        "# print schema\n",
        "df.printSchema()"
      ],
      "execution_count": 70,
      "outputs": [
        {
          "output_type": "stream",
          "name": "stdout",
          "text": [
            "root\n",
            " |-- Serial No: integer (nullable = true)\n",
            " |-- GRE Score: integer (nullable = true)\n",
            " |-- TOEFL Score: integer (nullable = true)\n",
            " |-- University Rating: integer (nullable = true)\n",
            " |-- SOP: double (nullable = true)\n",
            " |-- LOR: double (nullable = true)\n",
            " |-- CGPA: double (nullable = true)\n",
            " |-- Research: integer (nullable = true)\n",
            " |-- Chance of Admit: double (nullable = true)\n",
            "\n"
          ]
        }
      ]
    },
    {
      "cell_type": "code",
      "metadata": {
        "id": "locEx8HDz264",
        "colab": {
          "base_uri": "https://localhost:8080/"
        },
        "outputId": "c0d622be-af97-4598-d7f2-dbf03b0a9f39"
      },
      "source": [
        "# get the summary statistics\n",
        "df.describe().show()"
      ],
      "execution_count": 71,
      "outputs": [
        {
          "output_type": "stream",
          "name": "stdout",
          "text": [
            "+-------+-----------------+------------------+-----------------+-----------------+------------------+------------------+------------------+------------------+-------------------+\n",
            "|summary|        Serial No|         GRE Score|      TOEFL Score|University Rating|               SOP|               LOR|              CGPA|          Research|    Chance of Admit|\n",
            "+-------+-----------------+------------------+-----------------+-----------------+------------------+------------------+------------------+------------------+-------------------+\n",
            "|  count|              500|               500|              500|              500|               500|               500|               500|               500|                500|\n",
            "|   mean|            250.5|           316.472|          107.192|            3.114|             3.374|             3.484| 8.576440000000003|              0.56| 0.7217399999999996|\n",
            "| stddev|144.4818327679989|11.295148372354712|6.081867659564538|1.143511800759815|0.9910036207566072|0.9254495738978191|0.6048128003332054|0.4968840786090358|0.14114040395030228|\n",
            "|    min|                1|               290|               92|                1|               1.0|               1.0|               6.8|                 0|               0.34|\n",
            "|    max|              500|               340|              120|                5|               5.0|               5.0|              9.92|                 1|               0.97|\n",
            "+-------+-----------------+------------------+-----------------+-----------------+------------------+------------------+------------------+------------------+-------------------+\n",
            "\n"
          ]
        }
      ]
    },
    {
      "cell_type": "markdown",
      "metadata": {
        "id": "6uDdoEKsz6h6"
      },
      "source": [
        "# Data Cleaning"
      ]
    },
    {
      "cell_type": "code",
      "metadata": {
        "id": "o6gJAFo30G9s"
      },
      "source": [
        "# drop the unnecessary column\n",
        "df = df.drop('Serial No')"
      ],
      "execution_count": 72,
      "outputs": []
    },
    {
      "cell_type": "code",
      "metadata": {
        "id": "_lOPoDVk0OFH",
        "colab": {
          "base_uri": "https://localhost:8080/"
        },
        "outputId": "cb711b43-9700-46f1-d8cc-fe99591fb4b3"
      },
      "source": [
        "# display the dataframe\n",
        "df.show()"
      ],
      "execution_count": 73,
      "outputs": [
        {
          "output_type": "stream",
          "name": "stdout",
          "text": [
            "+---------+-----------+-----------------+---+---+----+--------+---------------+\n",
            "|GRE Score|TOEFL Score|University Rating|SOP|LOR|CGPA|Research|Chance of Admit|\n",
            "+---------+-----------+-----------------+---+---+----+--------+---------------+\n",
            "|      337|        118|                4|4.5|4.5|9.65|       1|           0.92|\n",
            "|      324|        107|                4|4.0|4.5|8.87|       1|           0.76|\n",
            "|      316|        104|                3|3.0|3.5| 8.0|       1|           0.72|\n",
            "|      322|        110|                3|3.5|2.5|8.67|       1|            0.8|\n",
            "|      314|        103|                2|2.0|3.0|8.21|       0|           0.65|\n",
            "|      330|        115|                5|4.5|3.0|9.34|       1|            0.9|\n",
            "|      321|        109|                3|3.0|4.0| 8.2|       1|           0.75|\n",
            "|      308|        101|                2|3.0|4.0| 7.9|       0|           0.68|\n",
            "|      302|        102|                1|2.0|1.5| 8.0|       0|            0.5|\n",
            "|      323|        108|                3|3.5|3.0| 8.6|       0|           0.45|\n",
            "|      325|        106|                3|3.5|4.0| 8.4|       1|           0.52|\n",
            "|      327|        111|                4|4.0|4.5| 9.0|       1|           0.84|\n",
            "|      328|        112|                4|4.0|4.5| 9.1|       1|           0.78|\n",
            "|      307|        109|                3|4.0|3.0| 8.0|       1|           0.62|\n",
            "|      311|        104|                3|3.5|2.0| 8.2|       1|           0.61|\n",
            "|      314|        105|                3|3.5|2.5| 8.3|       0|           0.54|\n",
            "|      317|        107|                3|4.0|3.0| 8.7|       0|           0.66|\n",
            "|      319|        106|                3|4.0|3.0| 8.0|       1|           0.65|\n",
            "|      318|        110|                3|4.0|3.0| 8.8|       0|           0.63|\n",
            "|      303|        102|                3|3.5|3.0| 8.5|       0|           0.62|\n",
            "+---------+-----------+-----------------+---+---+----+--------+---------------+\n",
            "only showing top 20 rows\n",
            "\n"
          ]
        }
      ]
    },
    {
      "cell_type": "code",
      "metadata": {
        "id": "Au73oUZJ0Qv7",
        "colab": {
          "base_uri": "https://localhost:8080/"
        },
        "outputId": "311b54ed-fd51-40fb-a6d5-131f3100a186"
      },
      "source": [
        "# check for null values\n",
        "from pyspark.sql.functions import isnan, when, count\n",
        "df.select([count(when(isnan(c) | df[c].isNull(), c)).alias(c) for c in df.columns]\n",
        "  ).show()"
      ],
      "execution_count": 74,
      "outputs": [
        {
          "output_type": "stream",
          "name": "stdout",
          "text": [
            "+---------+-----------+-----------------+---+---+----+--------+---------------+\n",
            "|GRE Score|TOEFL Score|University Rating|SOP|LOR|CGPA|Research|Chance of Admit|\n",
            "+---------+-----------+-----------------+---+---+----+--------+---------------+\n",
            "|        0|          0|                0|  0|  0|   0|       0|              0|\n",
            "+---------+-----------+-----------------+---+---+----+--------+---------------+\n",
            "\n"
          ]
        }
      ]
    },
    {
      "cell_type": "markdown",
      "metadata": {
        "id": "prkDI9Dc0SoH"
      },
      "source": [
        "# Correlation Analysis & Feature Selection"
      ]
    },
    {
      "cell_type": "code",
      "metadata": {
        "id": "eFhxSRRj0Ypa",
        "colab": {
          "base_uri": "https://localhost:8080/"
        },
        "outputId": "f9c4af5d-641c-434d-e4e5-9815a54ec7bb"
      },
      "source": [
        "# correlation analysis\n",
        "correlations = {}\n",
        "for col in df.columns:\n",
        "  if col != \"Chance of Admit\":\n",
        "    corr_score = df.stat.corr('Chance of Admit', col)\n",
        "    print(f\"Correlation to chance of admit for {col} is {corr_score}\")\n",
        "    correlations[col] = corr_score"
      ],
      "execution_count": 75,
      "outputs": [
        {
          "output_type": "stream",
          "name": "stdout",
          "text": [
            "Correlation to chance of admit for GRE Score is 0.8103506354632598\n",
            "Correlation to chance of admit for TOEFL Score is 0.7922276143050823\n",
            "Correlation to chance of admit for University Rating is 0.6901323687886892\n",
            "Correlation to chance of admit for SOP is 0.6841365241316723\n",
            "Correlation to chance of admit for LOR is 0.6453645135280112\n",
            "Correlation to chance of admit for CGPA is 0.882412574904574\n",
            "Correlation to chance of admit for Research is 0.5458710294711379\n"
          ]
        }
      ]
    },
    {
      "cell_type": "code",
      "metadata": {
        "id": "UXNOknvo0dV2"
      },
      "source": [
        "# create a VectorAssembler to combine features into a single vector\n",
        "from pyspark.ml.feature import VectorAssembler, VectorSlicer\n",
        "\n",
        "feature_cols = [col for col in df.columns if col != 'Chance of Admit']\n",
        "assembler = VectorAssembler(inputCols=feature_cols, outputCol=\"features\")"
      ],
      "execution_count": 76,
      "outputs": []
    },
    {
      "cell_type": "code",
      "metadata": {
        "id": "JOzlkPaz0ibL",
        "colab": {
          "base_uri": "https://localhost:8080/"
        },
        "outputId": "7e023b28-aa59-417f-b9c1-d1f26bebd026"
      },
      "source": [
        "# display dataframe\n",
        "output_data = assembler.transform(df)\n",
        "output_data.show()"
      ],
      "execution_count": 77,
      "outputs": [
        {
          "output_type": "stream",
          "name": "stdout",
          "text": [
            "+---------+-----------+-----------------+---+---+----+--------+---------------+--------------------+\n",
            "|GRE Score|TOEFL Score|University Rating|SOP|LOR|CGPA|Research|Chance of Admit|            features|\n",
            "+---------+-----------+-----------------+---+---+----+--------+---------------+--------------------+\n",
            "|      337|        118|                4|4.5|4.5|9.65|       1|           0.92|[337.0,118.0,4.0,...|\n",
            "|      324|        107|                4|4.0|4.5|8.87|       1|           0.76|[324.0,107.0,4.0,...|\n",
            "|      316|        104|                3|3.0|3.5| 8.0|       1|           0.72|[316.0,104.0,3.0,...|\n",
            "|      322|        110|                3|3.5|2.5|8.67|       1|            0.8|[322.0,110.0,3.0,...|\n",
            "|      314|        103|                2|2.0|3.0|8.21|       0|           0.65|[314.0,103.0,2.0,...|\n",
            "|      330|        115|                5|4.5|3.0|9.34|       1|            0.9|[330.0,115.0,5.0,...|\n",
            "|      321|        109|                3|3.0|4.0| 8.2|       1|           0.75|[321.0,109.0,3.0,...|\n",
            "|      308|        101|                2|3.0|4.0| 7.9|       0|           0.68|[308.0,101.0,2.0,...|\n",
            "|      302|        102|                1|2.0|1.5| 8.0|       0|            0.5|[302.0,102.0,1.0,...|\n",
            "|      323|        108|                3|3.5|3.0| 8.6|       0|           0.45|[323.0,108.0,3.0,...|\n",
            "|      325|        106|                3|3.5|4.0| 8.4|       1|           0.52|[325.0,106.0,3.0,...|\n",
            "|      327|        111|                4|4.0|4.5| 9.0|       1|           0.84|[327.0,111.0,4.0,...|\n",
            "|      328|        112|                4|4.0|4.5| 9.1|       1|           0.78|[328.0,112.0,4.0,...|\n",
            "|      307|        109|                3|4.0|3.0| 8.0|       1|           0.62|[307.0,109.0,3.0,...|\n",
            "|      311|        104|                3|3.5|2.0| 8.2|       1|           0.61|[311.0,104.0,3.0,...|\n",
            "|      314|        105|                3|3.5|2.5| 8.3|       0|           0.54|[314.0,105.0,3.0,...|\n",
            "|      317|        107|                3|4.0|3.0| 8.7|       0|           0.66|[317.0,107.0,3.0,...|\n",
            "|      319|        106|                3|4.0|3.0| 8.0|       1|           0.65|[319.0,106.0,3.0,...|\n",
            "|      318|        110|                3|4.0|3.0| 8.8|       0|           0.63|[318.0,110.0,3.0,...|\n",
            "|      303|        102|                3|3.5|3.0| 8.5|       0|           0.62|[303.0,102.0,3.0,...|\n",
            "+---------+-----------+-----------------+---+---+----+--------+---------------+--------------------+\n",
            "only showing top 20 rows\n",
            "\n"
          ]
        }
      ]
    },
    {
      "cell_type": "markdown",
      "metadata": {
        "id": "l6FucLAC0r5I"
      },
      "source": [
        "# Build the Regression Model"
      ]
    },
    {
      "cell_type": "code",
      "metadata": {
        "id": "RMYN_8jJ0wDR"
      },
      "source": [
        "# import GradientBoostingRegressor and create final data\n",
        "from pyspark.ml.regression import GBTRegressor\n",
        "final_data = output_data.select('features', 'Chance of Admit')"
      ],
      "execution_count": 78,
      "outputs": []
    },
    {
      "cell_type": "code",
      "metadata": {
        "id": "MNSEfLCp09oO",
        "colab": {
          "base_uri": "https://localhost:8080/"
        },
        "outputId": "41af8478-153e-41fb-e411-99acabaa817d"
      },
      "source": [
        "# print schema of final data\n",
        "final_data.printSchema()"
      ],
      "execution_count": 79,
      "outputs": [
        {
          "output_type": "stream",
          "name": "stdout",
          "text": [
            "root\n",
            " |-- features: vector (nullable = true)\n",
            " |-- Chance of Admit: double (nullable = true)\n",
            "\n"
          ]
        }
      ]
    },
    {
      "cell_type": "code",
      "metadata": {
        "id": "vOJylIiS1Dre"
      },
      "source": [
        "# split the dataset into training and test sets\n",
        "train, test = final_data.randomSplit([0.7, 0.3], seed=42)"
      ],
      "execution_count": 80,
      "outputs": []
    },
    {
      "cell_type": "code",
      "metadata": {
        "id": "xoxFzm4A1Hee"
      },
      "source": [
        "# initialize the model\n",
        "gbt = GBTRegressor(labelCol=\"Chance of Admit\", featuresCol=\"features\")"
      ],
      "execution_count": 81,
      "outputs": []
    },
    {
      "cell_type": "code",
      "source": [
        "# define a parameter grid for grid search\n",
        "from pyspark.ml.tuning import ParamGridBuilder, TrainValidationSplit\n",
        "paramGrid = (ParamGridBuilder()\n",
        "             .addGrid(gbt.maxDepth, [2, 4, 6])\n",
        "             .addGrid(gbt.maxBins, [20, 30, 40])\n",
        "             .addGrid(gbt.maxIter, [10, 20, 30])\n",
        "             .build())"
      ],
      "metadata": {
        "id": "QqyOn0heCGd1"
      },
      "execution_count": 82,
      "outputs": []
    },
    {
      "cell_type": "code",
      "source": [
        "# create a TrainValidationSplit with the GradientBoostingRegressor\n",
        "from pyspark.ml.evaluation import RegressionEvaluator\n",
        "tvs = TrainValidationSplit(estimator=gbt,\n",
        "                           estimatorParamMaps=paramGrid,\n",
        "                           evaluator=RegressionEvaluator(labelCol=\"Chance of Admit\", metricName=\"rmse\"),\n",
        "                           trainRatio=0.8)"
      ],
      "metadata": {
        "id": "GyVsMvDoCjqA"
      },
      "execution_count": 83,
      "outputs": []
    },
    {
      "cell_type": "code",
      "source": [
        "# fit the TrainValidationSplit model on the training data\n",
        "tvs_model = tvs.fit(train)"
      ],
      "metadata": {
        "id": "aWKV0Jv7CtCW"
      },
      "execution_count": 87,
      "outputs": []
    },
    {
      "cell_type": "code",
      "source": [
        "# get the best model from the grid search\n",
        "best_model = tvs_model.bestModel"
      ],
      "metadata": {
        "id": "h5Ka78VT8M0l"
      },
      "execution_count": 88,
      "outputs": []
    },
    {
      "cell_type": "markdown",
      "metadata": {
        "id": "b5lTskfK1eKV"
      },
      "source": [
        "# Evaluate & Save the Model"
      ]
    },
    {
      "cell_type": "code",
      "source": [
        "# make predictions on the training set\n",
        "train_predictions = best_model.transform(train)"
      ],
      "metadata": {
        "id": "o25_V1pYDVoP"
      },
      "execution_count": 89,
      "outputs": []
    },
    {
      "cell_type": "code",
      "metadata": {
        "id": "l0TAwvGP1noC"
      },
      "source": [
        "# make predictions on the test set\n",
        "test_predictions = best_model.transform(test)"
      ],
      "execution_count": 90,
      "outputs": []
    },
    {
      "cell_type": "code",
      "source": [
        "# evaluate the final model on the training set\n",
        "evaluator = RegressionEvaluator(labelCol=\"Chance of Admit\", metricName=\"rmse\")\n",
        "train_rmse = evaluator.evaluate(train_predictions)\n",
        "print(f\"Training RMSE: {train_rmse}\")"
      ],
      "metadata": {
        "colab": {
          "base_uri": "https://localhost:8080/"
        },
        "id": "_lXxIekYDXZ1",
        "outputId": "c4b2ac3a-1cf5-4e3d-8f5e-91f732b47c64"
      },
      "execution_count": 91,
      "outputs": [
        {
          "output_type": "stream",
          "name": "stdout",
          "text": [
            "Training RMSE: 0.05869405654701518\n"
          ]
        }
      ]
    },
    {
      "cell_type": "code",
      "metadata": {
        "id": "T_DixZ6f1nvP",
        "colab": {
          "base_uri": "https://localhost:8080/"
        },
        "outputId": "c3516d22-addf-468f-f6e9-6de4b3475cec"
      },
      "source": [
        "# Evaluate the final model on the test set\n",
        "from pyspark.sql.functions import col, lit, pow, sqrt\n",
        "evaluator = RegressionEvaluator(labelCol=\"Chance of Admit\", metricName=\"rmse\")\n",
        "test_rmse = evaluator.evaluate(test_predictions)\n",
        "print(f\"Test RMSE: {test_rmse}\")\n",
        "# calculate RMSPE on the test set\n",
        "test_rmspe = test_predictions.withColumn(\n",
        "    \"percent_error_squared\",\n",
        "    pow((col(\"Chance of Admit\") - col(\"prediction\")) / col(\"Chance of Admit\"), 2)\n",
        ").withColumn(\n",
        "    \"percent_error_squared\",\n",
        "    when(col(\"Chance of Admit\") == 0, lit(0)).otherwise(col(\"percent_error_squared\"))\n",
        ").selectExpr(\"sqrt(avg(percent_error_squared)) as rmspe\")\n",
        "\n",
        "rmspe = test_rmspe.select(\"rmspe\").collect()[0][0]\n",
        "print(f\"Test RMSPE: {rmspe * 100:.2f}%\")"
      ],
      "execution_count": 92,
      "outputs": [
        {
          "output_type": "stream",
          "name": "stdout",
          "text": [
            "Test RMSE: 0.06211256497547917\n",
            "Test RMSPE: 10.92%\n"
          ]
        }
      ]
    },
    {
      "cell_type": "code",
      "metadata": {
        "id": "PK48FYRd2CMJ"
      },
      "source": [
        "# save the model\n",
        "best_model.write().overwrite().save('best_model')"
      ],
      "execution_count": 93,
      "outputs": []
    },
    {
      "cell_type": "code",
      "source": [
        "# load the model\n",
        "from pyspark.ml.regression import GBTRegressionModel\n",
        "loaded_model = GBTRegressionModel.load('best_model')"
      ],
      "metadata": {
        "id": "eWeALrARFS0w"
      },
      "execution_count": 94,
      "outputs": []
    },
    {
      "cell_type": "code",
      "source": [
        "print(\"Test RMSE:\", evaluator.evaluate(loaded_model.transform(test)))"
      ],
      "metadata": {
        "colab": {
          "base_uri": "https://localhost:8080/"
        },
        "id": "cK3G6_y2FWxr",
        "outputId": "e73a687a-6d15-4b1d-f6dc-5ec5508555a5"
      },
      "execution_count": 95,
      "outputs": [
        {
          "output_type": "stream",
          "name": "stdout",
          "text": [
            "Test RMSE: 0.06211256497547917\n"
          ]
        }
      ]
    }
  ]
}